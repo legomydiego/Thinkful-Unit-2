{
 "cells": [
  {
   "cell_type": "code",
   "execution_count": 1,
   "metadata": {},
   "outputs": [],
   "source": [
    "%matplotlib inline\n",
    "import numpy as np\n",
    "import pandas as pd\n",
    "import scipy\n",
    "import sklearn\n",
    "import matplotlib.pyplot as plt\n",
    "import seaborn as sns\n",
    "import math\n",
    "from sklearn import linear_model\n",
    "import statsmodels.formula.api as smf"
   ]
  },
  {
   "cell_type": "code",
   "execution_count": 86,
   "metadata": {},
   "outputs": [],
   "source": [
    "df = pd.read_csv('Table_8_Offenses_Known_to_Law_Enforcement_by_New_York_by_City_2014.csv')"
   ]
  },
  {
   "cell_type": "code",
   "execution_count": 87,
   "metadata": {},
   "outputs": [
    {
     "data": {
      "text/html": [
       "<div>\n",
       "<style scoped>\n",
       "    .dataframe tbody tr th:only-of-type {\n",
       "        vertical-align: middle;\n",
       "    }\n",
       "\n",
       "    .dataframe tbody tr th {\n",
       "        vertical-align: top;\n",
       "    }\n",
       "\n",
       "    .dataframe thead th {\n",
       "        text-align: right;\n",
       "    }\n",
       "</style>\n",
       "<table border=\"1\" class=\"dataframe\">\n",
       "  <thead>\n",
       "    <tr style=\"text-align: right;\">\n",
       "      <th></th>\n",
       "      <th>City</th>\n",
       "      <th>Population</th>\n",
       "      <th>Violent\n",
       "crime</th>\n",
       "      <th>Murder and\n",
       "nonnegligent\n",
       "manslaughter</th>\n",
       "      <th>Rape\n",
       "(revised\n",
       "definition)1</th>\n",
       "      <th>Robbery</th>\n",
       "      <th>Aggravated\n",
       "assault</th>\n",
       "      <th>Property\n",
       "crime</th>\n",
       "      <th>Burglary</th>\n",
       "      <th>Larceny-\n",
       "theft</th>\n",
       "      <th>Motor\n",
       "vehicle\n",
       "theft</th>\n",
       "      <th>Arson</th>\n",
       "    </tr>\n",
       "  </thead>\n",
       "  <tbody>\n",
       "    <tr>\n",
       "      <th>0</th>\n",
       "      <td>Adams Village</td>\n",
       "      <td>1,851</td>\n",
       "      <td>0</td>\n",
       "      <td>0</td>\n",
       "      <td>NaN</td>\n",
       "      <td>0</td>\n",
       "      <td>0</td>\n",
       "      <td>11</td>\n",
       "      <td>1</td>\n",
       "      <td>10</td>\n",
       "      <td>0</td>\n",
       "      <td>0.0</td>\n",
       "    </tr>\n",
       "    <tr>\n",
       "      <th>1</th>\n",
       "      <td>Addison Town and Village</td>\n",
       "      <td>2,568</td>\n",
       "      <td>2</td>\n",
       "      <td>0</td>\n",
       "      <td>NaN</td>\n",
       "      <td>1</td>\n",
       "      <td>1</td>\n",
       "      <td>49</td>\n",
       "      <td>1</td>\n",
       "      <td>47</td>\n",
       "      <td>1</td>\n",
       "      <td>0.0</td>\n",
       "    </tr>\n",
       "    <tr>\n",
       "      <th>2</th>\n",
       "      <td>Afton Village4</td>\n",
       "      <td>820</td>\n",
       "      <td>0</td>\n",
       "      <td>0</td>\n",
       "      <td>0</td>\n",
       "      <td>0</td>\n",
       "      <td>0</td>\n",
       "      <td>1</td>\n",
       "      <td>0</td>\n",
       "      <td>1</td>\n",
       "      <td>0</td>\n",
       "      <td>0.0</td>\n",
       "    </tr>\n",
       "    <tr>\n",
       "      <th>3</th>\n",
       "      <td>Akron Village</td>\n",
       "      <td>2,842</td>\n",
       "      <td>1</td>\n",
       "      <td>0</td>\n",
       "      <td>NaN</td>\n",
       "      <td>0</td>\n",
       "      <td>1</td>\n",
       "      <td>17</td>\n",
       "      <td>0</td>\n",
       "      <td>17</td>\n",
       "      <td>0</td>\n",
       "      <td>0.0</td>\n",
       "    </tr>\n",
       "    <tr>\n",
       "      <th>4</th>\n",
       "      <td>Albany4</td>\n",
       "      <td>98,595</td>\n",
       "      <td>802</td>\n",
       "      <td>8</td>\n",
       "      <td>54</td>\n",
       "      <td>237</td>\n",
       "      <td>503</td>\n",
       "      <td>3,888</td>\n",
       "      <td>683</td>\n",
       "      <td>3,083</td>\n",
       "      <td>122</td>\n",
       "      <td>12.0</td>\n",
       "    </tr>\n",
       "  </tbody>\n",
       "</table>\n",
       "</div>"
      ],
      "text/plain": [
       "                       City Population Violent\\ncrime  \\\n",
       "0             Adams Village      1,851              0   \n",
       "1  Addison Town and Village      2,568              2   \n",
       "2            Afton Village4        820              0   \n",
       "3             Akron Village      2,842              1   \n",
       "4                   Albany4     98,595            802   \n",
       "\n",
       "   Murder and\\nnonnegligent\\nmanslaughter Rape\\n(revised\\ndefinition)1  \\\n",
       "0                                       0                          NaN   \n",
       "1                                       0                          NaN   \n",
       "2                                       0                            0   \n",
       "3                                       0                          NaN   \n",
       "4                                       8                           54   \n",
       "\n",
       "  Robbery Aggravated\\nassault Property\\ncrime Burglary Larceny-\\ntheft  \\\n",
       "0       0                   0              11        1              10   \n",
       "1       1                   1              49        1              47   \n",
       "2       0                   0               1        0               1   \n",
       "3       0                   1              17        0              17   \n",
       "4     237                 503           3,888      683           3,083   \n",
       "\n",
       "  Motor\\nvehicle\\ntheft  Arson  \n",
       "0                     0    0.0  \n",
       "1                     1    0.0  \n",
       "2                     0    0.0  \n",
       "3                     0    0.0  \n",
       "4                   122   12.0  "
      ]
     },
     "execution_count": 87,
     "metadata": {},
     "output_type": "execute_result"
    }
   ],
   "source": [
    "df.head()"
   ]
  },
  {
   "cell_type": "code",
   "execution_count": 88,
   "metadata": {},
   "outputs": [
    {
     "name": "stdout",
     "output_type": "stream",
     "text": [
      "<class 'pandas.core.frame.DataFrame'>\n",
      "RangeIndex: 369 entries, 0 to 368\n",
      "Data columns (total 12 columns):\n",
      "City                                    369 non-null object\n",
      "Population                              369 non-null object\n",
      "Violent\n",
      "crime                           369 non-null object\n",
      "Murder and\n",
      "nonnegligent\n",
      "manslaughter    369 non-null int64\n",
      "Rape\n",
      "(revised\n",
      "definition)1              227 non-null object\n",
      "Robbery                                 369 non-null object\n",
      "Aggravated\n",
      "assault                      369 non-null object\n",
      "Property\n",
      "crime                          368 non-null object\n",
      "Burglary                                369 non-null object\n",
      "Larceny-\n",
      "theft                          368 non-null object\n",
      "Motor\n",
      "vehicle\n",
      "theft                     369 non-null object\n",
      "Arson                                   365 non-null float64\n",
      "dtypes: float64(1), int64(1), object(10)\n",
      "memory usage: 34.7+ KB\n"
     ]
    }
   ],
   "source": [
    "df.info()"
   ]
  },
  {
   "cell_type": "code",
   "execution_count": 89,
   "metadata": {},
   "outputs": [],
   "source": [
    "df = df.rename(columns={'Violent\\ncrime': 'Violent_crime', 'Murder and\\nnonnegligent\\nmanslaughter': 'Murder','Rape\\n(revised\\ndefinition)1': 'Rape', 'Aggravated\\nassault': 'Aggravated_assault','Property\\ncrime': 'Property_crime', 'Larceny-\\ntheft': 'Larceny_theft', 'Motor\\nvehicle\\ntheft': 'Motor_vehicle_theft'})"
   ]
  },
  {
   "cell_type": "code",
   "execution_count": 90,
   "metadata": {},
   "outputs": [
    {
     "data": {
      "text/plain": [
       "15.555066079295154"
      ]
     },
     "execution_count": 90,
     "metadata": {},
     "output_type": "execute_result"
    }
   ],
   "source": [
    "df['Rape'].dropna().str.replace(',', '').astype(int).mean()"
   ]
  },
  {
   "cell_type": "code",
   "execution_count": 96,
   "metadata": {},
   "outputs": [],
   "source": [
    "df['Rape'] = df['Rape'].fillna(15.56)"
   ]
  },
  {
   "cell_type": "code",
   "execution_count": null,
   "metadata": {},
   "outputs": [],
   "source": [
    "df['Rape'] = df['Rape'].str.replace(',', '')\n",
    "df['Rape'] = pd.to_numeric(df['Rape'])"
   ]
  },
  {
   "cell_type": "code",
   "execution_count": 98,
   "metadata": {},
   "outputs": [
    {
     "name": "stdout",
     "output_type": "stream",
     "text": [
      "<class 'pandas.core.frame.DataFrame'>\n",
      "RangeIndex: 369 entries, 0 to 368\n",
      "Data columns (total 12 columns):\n",
      "City                   369 non-null object\n",
      "Population             369 non-null object\n",
      "Violent_crime          369 non-null object\n",
      "Murder                 369 non-null int64\n",
      "Rape                   369 non-null float64\n",
      "Robbery                369 non-null object\n",
      "Aggravated_assault     369 non-null object\n",
      "Property_crime         368 non-null object\n",
      "Burglary               369 non-null object\n",
      "Larceny_theft          368 non-null object\n",
      "Motor_vehicle_theft    369 non-null object\n",
      "Arson                  365 non-null float64\n",
      "dtypes: float64(2), int64(1), object(9)\n",
      "memory usage: 34.7+ KB\n"
     ]
    }
   ],
   "source": [
    "df.info()"
   ]
  },
  {
   "cell_type": "code",
   "execution_count": 114,
   "metadata": {},
   "outputs": [
    {
     "data": {
      "text/plain": [
       "City                   0\n",
       "Population             0\n",
       "Violent_crime          0\n",
       "Murder                 0\n",
       "Rape                   0\n",
       "Robbery                0\n",
       "Aggravated_assault     0\n",
       "Property_crime         0\n",
       "Burglary               0\n",
       "Larceny_theft          0\n",
       "Motor_vehicle_theft    0\n",
       "Arson                  0\n",
       "dtype: int64"
      ]
     },
     "execution_count": 114,
     "metadata": {},
     "output_type": "execute_result"
    }
   ],
   "source": [
    "df.isna().sum()"
   ]
  },
  {
   "cell_type": "code",
   "execution_count": 112,
   "metadata": {},
   "outputs": [],
   "source": [
    "df['Property_crime'] = df['Property_crime'].fillna(0)\n",
    "df['Larceny_theft'] = df['Larceny_theft'].fillna(0)\n",
    "df['Arson'] = df['Arson'].fillna(0)"
   ]
  },
  {
   "cell_type": "code",
   "execution_count": 113,
   "metadata": {},
   "outputs": [],
   "source": [
    "df['Property_crime'] = df['Property_crime'].fillna(0)\n",
    "df['Larceny_theft'] = df['Larceny_theft'].fillna(0)"
   ]
  },
  {
   "cell_type": "code",
   "execution_count": 116,
   "metadata": {},
   "outputs": [
    {
     "name": "stdout",
     "output_type": "stream",
     "text": [
      "<class 'pandas.core.frame.DataFrame'>\n",
      "RangeIndex: 369 entries, 0 to 368\n",
      "Data columns (total 12 columns):\n",
      "City                   369 non-null object\n",
      "Population             369 non-null int64\n",
      "Violent_crime          369 non-null int64\n",
      "Murder                 369 non-null int64\n",
      "Rape                   369 non-null float64\n",
      "Robbery                369 non-null int64\n",
      "Aggravated_assault     369 non-null int64\n",
      "Property_crime         369 non-null float64\n",
      "Burglary               369 non-null int64\n",
      "Larceny_theft          369 non-null float64\n",
      "Motor_vehicle_theft    369 non-null int64\n",
      "Arson                  369 non-null float64\n",
      "dtypes: float64(4), int64(7), object(1)\n",
      "memory usage: 34.7+ KB\n"
     ]
    }
   ],
   "source": [
    "df.info()"
   ]
  },
  {
   "cell_type": "code",
   "execution_count": 103,
   "metadata": {},
   "outputs": [
    {
     "data": {
      "text/plain": [
       "Index(['City', 'Population', 'Violent_crime', 'Murder', 'Rape', 'Robbery',\n",
       "       'Aggravated_assault', 'Property_crime', 'Burglary', 'Larceny_theft',\n",
       "       'Motor_vehicle_theft', 'Arson'],\n",
       "      dtype='object')"
      ]
     },
     "execution_count": 103,
     "metadata": {},
     "output_type": "execute_result"
    }
   ],
   "source": [
    "columns"
   ]
  },
  {
   "cell_type": "code",
   "execution_count": null,
   "metadata": {},
   "outputs": [],
   "source": [
    "for column in columns[5:]:\n",
    "    df[column] = df[column].str.replace(',', '')\n",
    "    df[column] = pd.to_numeric(df[column])"
   ]
  },
  {
   "cell_type": "code",
   "execution_count": 118,
   "metadata": {},
   "outputs": [
    {
     "data": {
      "text/html": [
       "<div>\n",
       "<style scoped>\n",
       "    .dataframe tbody tr th:only-of-type {\n",
       "        vertical-align: middle;\n",
       "    }\n",
       "\n",
       "    .dataframe tbody tr th {\n",
       "        vertical-align: top;\n",
       "    }\n",
       "\n",
       "    .dataframe thead th {\n",
       "        text-align: right;\n",
       "    }\n",
       "</style>\n",
       "<table border=\"1\" class=\"dataframe\">\n",
       "  <thead>\n",
       "    <tr style=\"text-align: right;\">\n",
       "      <th></th>\n",
       "      <th>Population</th>\n",
       "      <th>Violent_crime</th>\n",
       "      <th>Murder</th>\n",
       "      <th>Rape</th>\n",
       "      <th>Robbery</th>\n",
       "      <th>Aggravated_assault</th>\n",
       "      <th>Property_crime</th>\n",
       "      <th>Burglary</th>\n",
       "      <th>Larceny_theft</th>\n",
       "      <th>Motor_vehicle_theft</th>\n",
       "      <th>Arson</th>\n",
       "    </tr>\n",
       "  </thead>\n",
       "  <tbody>\n",
       "    <tr>\n",
       "      <th>Population</th>\n",
       "      <td>1.000000</td>\n",
       "      <td>0.998902</td>\n",
       "      <td>0.985440</td>\n",
       "      <td>0.994111</td>\n",
       "      <td>0.998219</td>\n",
       "      <td>0.999212</td>\n",
       "      <td>0.996264</td>\n",
       "      <td>0.976500</td>\n",
       "      <td>0.997703</td>\n",
       "      <td>0.992623</td>\n",
       "      <td>0.024178</td>\n",
       "    </tr>\n",
       "    <tr>\n",
       "      <th>Violent_crime</th>\n",
       "      <td>0.998902</td>\n",
       "      <td>1.000000</td>\n",
       "      <td>0.991161</td>\n",
       "      <td>0.996403</td>\n",
       "      <td>0.999837</td>\n",
       "      <td>0.999912</td>\n",
       "      <td>0.998015</td>\n",
       "      <td>0.983074</td>\n",
       "      <td>0.998617</td>\n",
       "      <td>0.996263</td>\n",
       "      <td>0.036431</td>\n",
       "    </tr>\n",
       "    <tr>\n",
       "      <th>Murder</th>\n",
       "      <td>0.985440</td>\n",
       "      <td>0.991161</td>\n",
       "      <td>1.000000</td>\n",
       "      <td>0.991513</td>\n",
       "      <td>0.993065</td>\n",
       "      <td>0.989494</td>\n",
       "      <td>0.994554</td>\n",
       "      <td>0.995962</td>\n",
       "      <td>0.992427</td>\n",
       "      <td>0.997834</td>\n",
       "      <td>0.088805</td>\n",
       "    </tr>\n",
       "    <tr>\n",
       "      <th>Rape</th>\n",
       "      <td>0.994111</td>\n",
       "      <td>0.996403</td>\n",
       "      <td>0.991513</td>\n",
       "      <td>1.000000</td>\n",
       "      <td>0.996657</td>\n",
       "      <td>0.995787</td>\n",
       "      <td>0.996646</td>\n",
       "      <td>0.986804</td>\n",
       "      <td>0.996431</td>\n",
       "      <td>0.995961</td>\n",
       "      <td>0.081636</td>\n",
       "    </tr>\n",
       "    <tr>\n",
       "      <th>Robbery</th>\n",
       "      <td>0.998219</td>\n",
       "      <td>0.999837</td>\n",
       "      <td>0.993065</td>\n",
       "      <td>0.996657</td>\n",
       "      <td>1.000000</td>\n",
       "      <td>0.999526</td>\n",
       "      <td>0.998384</td>\n",
       "      <td>0.985304</td>\n",
       "      <td>0.998658</td>\n",
       "      <td>0.997437</td>\n",
       "      <td>0.042640</td>\n",
       "    </tr>\n",
       "    <tr>\n",
       "      <th>Aggravated_assault</th>\n",
       "      <td>0.999212</td>\n",
       "      <td>0.999912</td>\n",
       "      <td>0.989494</td>\n",
       "      <td>0.995787</td>\n",
       "      <td>0.999526</td>\n",
       "      <td>1.000000</td>\n",
       "      <td>0.997376</td>\n",
       "      <td>0.980877</td>\n",
       "      <td>0.998243</td>\n",
       "      <td>0.995096</td>\n",
       "      <td>0.028958</td>\n",
       "    </tr>\n",
       "    <tr>\n",
       "      <th>Property_crime</th>\n",
       "      <td>0.996264</td>\n",
       "      <td>0.998015</td>\n",
       "      <td>0.994554</td>\n",
       "      <td>0.996646</td>\n",
       "      <td>0.998384</td>\n",
       "      <td>0.997376</td>\n",
       "      <td>1.000000</td>\n",
       "      <td>0.990837</td>\n",
       "      <td>0.999746</td>\n",
       "      <td>0.998376</td>\n",
       "      <td>0.074078</td>\n",
       "    </tr>\n",
       "    <tr>\n",
       "      <th>Burglary</th>\n",
       "      <td>0.976500</td>\n",
       "      <td>0.983074</td>\n",
       "      <td>0.995962</td>\n",
       "      <td>0.986804</td>\n",
       "      <td>0.985304</td>\n",
       "      <td>0.980877</td>\n",
       "      <td>0.990837</td>\n",
       "      <td>1.000000</td>\n",
       "      <td>0.987570</td>\n",
       "      <td>0.994336</td>\n",
       "      <td>0.155493</td>\n",
       "    </tr>\n",
       "    <tr>\n",
       "      <th>Larceny_theft</th>\n",
       "      <td>0.997703</td>\n",
       "      <td>0.998617</td>\n",
       "      <td>0.992427</td>\n",
       "      <td>0.996431</td>\n",
       "      <td>0.998658</td>\n",
       "      <td>0.998243</td>\n",
       "      <td>0.999746</td>\n",
       "      <td>0.987570</td>\n",
       "      <td>1.000000</td>\n",
       "      <td>0.997153</td>\n",
       "      <td>0.060789</td>\n",
       "    </tr>\n",
       "    <tr>\n",
       "      <th>Motor_vehicle_theft</th>\n",
       "      <td>0.992623</td>\n",
       "      <td>0.996263</td>\n",
       "      <td>0.997834</td>\n",
       "      <td>0.995961</td>\n",
       "      <td>0.997437</td>\n",
       "      <td>0.995096</td>\n",
       "      <td>0.998376</td>\n",
       "      <td>0.994336</td>\n",
       "      <td>0.997153</td>\n",
       "      <td>1.000000</td>\n",
       "      <td>0.092605</td>\n",
       "    </tr>\n",
       "    <tr>\n",
       "      <th>Arson</th>\n",
       "      <td>0.024178</td>\n",
       "      <td>0.036431</td>\n",
       "      <td>0.088805</td>\n",
       "      <td>0.081636</td>\n",
       "      <td>0.042640</td>\n",
       "      <td>0.028958</td>\n",
       "      <td>0.074078</td>\n",
       "      <td>0.155493</td>\n",
       "      <td>0.060789</td>\n",
       "      <td>0.092605</td>\n",
       "      <td>1.000000</td>\n",
       "    </tr>\n",
       "  </tbody>\n",
       "</table>\n",
       "</div>"
      ],
      "text/plain": [
       "                     Population  Violent_crime    Murder      Rape   Robbery  \\\n",
       "Population             1.000000       0.998902  0.985440  0.994111  0.998219   \n",
       "Violent_crime          0.998902       1.000000  0.991161  0.996403  0.999837   \n",
       "Murder                 0.985440       0.991161  1.000000  0.991513  0.993065   \n",
       "Rape                   0.994111       0.996403  0.991513  1.000000  0.996657   \n",
       "Robbery                0.998219       0.999837  0.993065  0.996657  1.000000   \n",
       "Aggravated_assault     0.999212       0.999912  0.989494  0.995787  0.999526   \n",
       "Property_crime         0.996264       0.998015  0.994554  0.996646  0.998384   \n",
       "Burglary               0.976500       0.983074  0.995962  0.986804  0.985304   \n",
       "Larceny_theft          0.997703       0.998617  0.992427  0.996431  0.998658   \n",
       "Motor_vehicle_theft    0.992623       0.996263  0.997834  0.995961  0.997437   \n",
       "Arson                  0.024178       0.036431  0.088805  0.081636  0.042640   \n",
       "\n",
       "                     Aggravated_assault  Property_crime  Burglary  \\\n",
       "Population                     0.999212        0.996264  0.976500   \n",
       "Violent_crime                  0.999912        0.998015  0.983074   \n",
       "Murder                         0.989494        0.994554  0.995962   \n",
       "Rape                           0.995787        0.996646  0.986804   \n",
       "Robbery                        0.999526        0.998384  0.985304   \n",
       "Aggravated_assault             1.000000        0.997376  0.980877   \n",
       "Property_crime                 0.997376        1.000000  0.990837   \n",
       "Burglary                       0.980877        0.990837  1.000000   \n",
       "Larceny_theft                  0.998243        0.999746  0.987570   \n",
       "Motor_vehicle_theft            0.995096        0.998376  0.994336   \n",
       "Arson                          0.028958        0.074078  0.155493   \n",
       "\n",
       "                     Larceny_theft  Motor_vehicle_theft     Arson  \n",
       "Population                0.997703             0.992623  0.024178  \n",
       "Violent_crime             0.998617             0.996263  0.036431  \n",
       "Murder                    0.992427             0.997834  0.088805  \n",
       "Rape                      0.996431             0.995961  0.081636  \n",
       "Robbery                   0.998658             0.997437  0.042640  \n",
       "Aggravated_assault        0.998243             0.995096  0.028958  \n",
       "Property_crime            0.999746             0.998376  0.074078  \n",
       "Burglary                  0.987570             0.994336  0.155493  \n",
       "Larceny_theft             1.000000             0.997153  0.060789  \n",
       "Motor_vehicle_theft       0.997153             1.000000  0.092605  \n",
       "Arson                     0.060789             0.092605  1.000000  "
      ]
     },
     "execution_count": 118,
     "metadata": {},
     "output_type": "execute_result"
    }
   ],
   "source": [
    "df.corr()"
   ]
  },
  {
   "cell_type": "markdown",
   "metadata": {},
   "source": [
    "Even though there is extremely high collinearity between the variables, I will continue with the linear regression for the purposes of this exercise"
   ]
  },
  {
   "cell_type": "code",
   "execution_count": 119,
   "metadata": {},
   "outputs": [],
   "source": [
    "regr = linear_model.LinearRegression()"
   ]
  },
  {
   "cell_type": "code",
   "execution_count": 120,
   "metadata": {},
   "outputs": [],
   "source": [
    "X = df[['Population','Violent_crime', 'Murder', 'Rape', 'Robbery',\n",
    "       'Aggravated_assault','Burglary', 'Larceny_theft',\n",
    "       'Motor_vehicle_theft', 'Arson']]\n",
    "Y = df['Property_crime']"
   ]
  },
  {
   "cell_type": "code",
   "execution_count": 121,
   "metadata": {},
   "outputs": [
    {
     "data": {
      "text/plain": [
       "LinearRegression(copy_X=True, fit_intercept=True, n_jobs=1, normalize=False)"
      ]
     },
     "execution_count": 121,
     "metadata": {},
     "output_type": "execute_result"
    }
   ],
   "source": [
    "regr.fit(X,Y)"
   ]
  },
  {
   "cell_type": "code",
   "execution_count": 122,
   "metadata": {},
   "outputs": [
    {
     "name": "stdout",
     "output_type": "stream",
     "text": [
      "\n",
      "Coefficients: \n",
      " [-8.01499023e-07 -1.78552051e-03 -4.79460701e-03  1.66728646e-03\n",
      "  1.83472155e-03  1.78609300e-03  9.99923862e-01  1.00006781e+00\n",
      "  1.00026459e+00 -2.64810901e-04]\n",
      "\n",
      "Intercept: \n",
      " -0.024664745154723278\n",
      "\n",
      "R-squared:\n",
      "0.9999999986666832\n"
     ]
    }
   ],
   "source": [
    "print('\\nCoefficients: \\n', regr.coef_)\n",
    "print('\\nIntercept: \\n', regr.intercept_)\n",
    "print('\\nR-squared:')\n",
    "print(regr.score(X, Y))"
   ]
  },
  {
   "cell_type": "code",
   "execution_count": 125,
   "metadata": {},
   "outputs": [
    {
     "data": {
      "text/plain": [
       "array([1.        , 1.        , 0.99999999, 1.        , 1.        ,\n",
       "       0.99999999, 1.        , 1.        , 1.        , 0.99999767])"
      ]
     },
     "execution_count": 125,
     "metadata": {},
     "output_type": "execute_result"
    }
   ],
   "source": [
    "from sklearn.model_selection import cross_val_score\n",
    "cross_val_score(regr, X, Y, cv=10)"
   ]
  },
  {
   "cell_type": "code",
   "execution_count": null,
   "metadata": {},
   "outputs": [],
   "source": []
  }
 ],
 "metadata": {
  "kernelspec": {
   "display_name": "Python 3",
   "language": "python",
   "name": "python3"
  },
  "language_info": {
   "codemirror_mode": {
    "name": "ipython",
    "version": 3
   },
   "file_extension": ".py",
   "mimetype": "text/x-python",
   "name": "python",
   "nbconvert_exporter": "python",
   "pygments_lexer": "ipython3",
   "version": "3.7.0"
  }
 },
 "nbformat": 4,
 "nbformat_minor": 2
}
